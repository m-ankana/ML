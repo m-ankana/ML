{
 "cells": [
  {
   "cell_type": "code",
   "execution_count": 57,
   "id": "93714514",
   "metadata": {},
   "outputs": [],
   "source": [
    "import numpy as np\n",
    "import matplotlib.pyplot as plt\n",
    "from sklearn import datasets\n",
    "from sklearn.linear_model import LinearRegression\n",
    "from sklearn.preprocessing import StandardScaler\n",
    "from sklearn.cluster import KMeans\n",
    "from sklearn.model_selection import train_test_split\n",
    "from sklearn.model_selection import KFold\n",
    "from sklearn.metrics import mean_squared_error\n",
    "from sklearn.linear_model import LinearRegression\n",
    "\n",
    "\n",
    "\n",
    "def gaussian(x, u, sigma):\n",
    "    return(np.exp(-0.5 * np.linalg.norm(x-u) / sigma))\n"
   ]
  },
  {
   "cell_type": "code",
   "execution_count": 24,
   "id": "da612df5",
   "metadata": {},
   "outputs": [
    {
     "name": "stdout",
     "output_type": "stream",
     "text": [
      "442 10\n",
      "(442,)\n"
     ]
    },
    {
     "data": {
      "text/plain": [
       "Text(0, 0.5, 'Prediction')"
      ]
     },
     "execution_count": 24,
     "metadata": {},
     "output_type": "execute_result"
    },
    {
     "data": {
      "image/png": "[encoded data removed]",
      "text/plain": [
       "<Figure size 216x216 with 1 Axes>"
      ]
     },
     "metadata": {
      "needs_background": "light"
     },
     "output_type": "display_data"
    }
   ],
   "source": [
    "diabetes = datasets.load_diabetes()\n",
    "X1 = diabetes.data\n",
    "y = diabetes.target\n",
    "\n",
    "# standarding mean=0 and standard deviation=1\n",
    "scaler = StandardScaler()\n",
    "X = scaler.fit_transform(X1)\n",
    "# print(np.std(X1, axis=0))\n",
    "# print(np.std(X, axis=0))\n",
    "\n",
    "N, p = X.shape\n",
    "\n",
    "print(N, p)\n",
    "# Space for design matrix\n",
    "#\n",
    "M = 200\n",
    "U = np.zeros((N,M))\n",
    "# Basis function locations at random\n",
    "#\n",
    "# kmeans=KMeans(n_clusters=M, random_state=0).fit(X)\n",
    "# C=kmeans.cluster_centers_\n",
    "\n",
    "C = np.random.randn(M,p)\n",
    "# Basis function range as distance between two random data\n",
    "#\n",
    "itr=200\n",
    "sigma = 0;\n",
    "for i in range(itr):\n",
    "    x1 = X[np.floor(np.random.rand()*N).astype(int),:] \n",
    "    x2 = X[np.floor(np.random.rand()*N).astype(int),:]\n",
    "    sigma += np.linalg.norm(x1-x2)\n",
    "\n",
    "sigma=sigma/itr\n",
    "# Construct the design matrix\n",
    "#\n",
    "for i in range(N):\n",
    "    for j in range(M):\n",
    "        U[i,j] = gaussian(X[i,:], C[j,:], sigma)\n",
    "# Pseudo inverse solution for linear part\n",
    "#\n",
    "l = np.linalg.inv(U.T @ U) @ U.T @ y\n",
    "# Predicted values on training data\n",
    "#\n",
    "yh = U @ l\n",
    "print(yh.shape)\n",
    "fig, ax = plt.subplots(figsize=(3,3))\n",
    "ax.scatter(y, yh, c='m', s=3)\n",
    "ax.grid(True)\n",
    "ax.set_title(\"Training Set\", fontsize=14)\n",
    "ax.set_xlabel(\"True Target\", fontsize=12)\n",
    "ax.set_ylabel(\"Prediction\", fontsize=12)\n"
   ]
  },
  {
   "cell_type": "code",
   "execution_count": 58,
   "id": "763026a0",
   "metadata": {},
   "outputs": [
    {
     "name": "stdout",
     "output_type": "stream",
     "text": [
      "442 10\n",
      "(442,)\n"
     ]
    },
    {
     "data": {
      "text/plain": [
       "Text(0, 0.5, 'Prediction')"
      ]
     },
     "execution_count": 58,
     "metadata": {},
     "output_type": "execute_result"
    },
    {
     "data": {
      "image/png": "[encoded data removed]",
      "text/plain": [
       "<Figure size 216x216 with 1 Axes>"
      ]
     },
     "metadata": {
      "needs_background": "light"
     },
     "output_type": "display_data"
    }
   ],
   "source": [
    "# taking centers using K means \n",
    "\n",
    "diabetes = datasets.load_diabetes()\n",
    "X1 = diabetes.data\n",
    "y = diabetes.target\n",
    "\n",
    "# standarding mean=0 and standard deviation=1\n",
    "scaler = StandardScaler()\n",
    "X = scaler.fit_transform(X1)\n",
    "# print(np.std(X1, axis=0))\n",
    "# print(np.std(X, axis=0))\n",
    "\n",
    "N, p = X.shape\n",
    "\n",
    "print(N, p)\n",
    "# Space for design matrix\n",
    "#\n",
    "M = 200\n",
    "U = np.zeros((N,M))\n",
    "# Basis function locations at random\n",
    "#\n",
    "kmeans=KMeans(n_clusters=M, random_state=0).fit(X)\n",
    "C=kmeans.cluster_centers_\n",
    "\n",
    "# C = np.random.randn(M,p)\n",
    "# Basis function range as distance between two random data\n",
    "#\n",
    "itr=200\n",
    "sigma = 0;\n",
    "for i in range(itr):\n",
    "    x1 = X[np.floor(np.random.rand()*N).astype(int),:] \n",
    "    x2 = X[np.floor(np.random.rand()*N).astype(int),:]\n",
    "    sigma += np.linalg.norm(x1-x2)\n",
    "\n",
    "sigma=sigma/itr\n",
    "# Construct the design matrix\n",
    "#\n",
    "for i in range(N):\n",
    "    for j in range(M):\n",
    "        U[i,j] = gaussian(X[i,:], C[j,:], sigma)\n",
    "# Pseudo inverse solution for linear part\n",
    "#\n",
    "l = np.linalg.inv(U.T @ U) @ U.T @ y\n",
    "# Predicted values on training data\n",
    "#\n",
    "yh = U @ l\n",
    "print(yh.shape)\n",
    "fig, ax = plt.subplots(figsize=(3,3))\n",
    "ax.scatter(y, yh, c='m', s=3)\n",
    "ax.grid(True)\n",
    "ax.set_title(\"Centers through k means clustering\", fontsize=14)\n",
    "ax.set_xlabel(\"True Target\", fontsize=12)\n",
    "ax.set_ylabel(\"Prediction\", fontsize=12)\n"
   ]
  },
  {
   "cell_type": "code",
   "execution_count": 29,
   "id": "ef17b432",
   "metadata": {},
   "outputs": [
    {
     "name": "stdout",
     "output_type": "stream",
     "text": [
      "(442,)\n"
     ]
    },
    {
     "data": {
      "text/plain": [
       "Text(0, 0.5, 'Prediction')"
      ]
     },
     "execution_count": 29,
     "metadata": {},
     "output_type": "execute_result"
    },
    {
     "data": {
      "image/png": "[encoded data removed]",
      "text/plain": [
       "<Figure size 216x216 with 1 Axes>"
      ]
     },
     "metadata": {
      "needs_background": "light"
     },
     "output_type": "display_data"
    }
   ],
   "source": [
    "from sklearn.model_selection import train_test_split\n",
    "X_train, X_test, t_train, t_test = train_test_split(X, y, test_size=0.3)\n",
    "N_train, p_train = X_train.shape\n",
    "N_test, p_test= X_test.shape\n",
    "\n",
    "for i in range(N_train):\n",
    "    for j in range(M):\n",
    "        U[i,j] = gaussian(X_train[i,:], C[j,:], sigma)\n",
    "# Pseudo inverse solution for linear part\n",
    "#\n",
    "l = np.linalg.inv(U.T @ U) @ U.T @ y\n",
    "\n",
    "for i in range(N_test):\n",
    "    for j in range(M):\n",
    "        U[i,j] = gaussian(X_test[i,:], C[j,:], sigma)\n",
    "        \n",
    "# Predicted values on training data\n",
    "#\n",
    "yh = U @ l\n",
    "print(yh.shape)\n",
    "\n",
    "fig, ax = plt.subplots(figsize=(3,3))\n",
    "ax.scatter(y, yh, c='m', s=3)\n",
    "ax.grid(True)\n",
    "ax.set_title(\"Training Set\", fontsize=14)\n",
    "ax.set_xlabel(\"True Target\", fontsize=12)\n",
    "ax.set_ylabel(\"Prediction\", fontsize=12)"
   ]
  },
  {
   "cell_type": "code",
   "execution_count": 35,
   "id": "8d29fa07",
   "metadata": {},
   "outputs": [
    {
     "name": "stdout",
     "output_type": "stream",
     "text": [
      "KFold(n_splits=10, random_state=None, shuffle=False)\n",
      "(442,)\n"
     ]
    },
    {
     "data": {
      "text/plain": [
       "Text(0, 0.5, 'Prediction')"
      ]
     },
     "execution_count": 35,
     "metadata": {},
     "output_type": "execute_result"
    },
    {
     "data": {
      "image/png": "[encoded data removed]",
      "text/plain": [
       "<Figure size 216x216 with 1 Axes>"
      ]
     },
     "metadata": {
      "needs_background": "light"
     },
     "output_type": "display_data"
    }
   ],
   "source": [
    "from sklearn.model_selection import KFold\n",
    "\n",
    "kf = KFold(n_splits=10)\n",
    "kf.get_n_splits(X)\n",
    "\n",
    "print(kf)\n",
    "\n",
    "for train_index, test_index in kf.split(X):\n",
    "#     print(\"TRAIN:\", train_index, \"TEST:\", test_index)\n",
    "    X_train, X_test = X[train_index], X[test_index]\n",
    "    y_train, y_test = y[train_index], y[test_index]\n",
    "    \n",
    "    N_train, p_train = X_train.shape\n",
    "    N_test, p_test= X_test.shape\n",
    "\n",
    "    for i in range(N_train):\n",
    "        for j in range(M):\n",
    "            U[i,j] = gaussian(X_train[i,:], C[j,:], sigma)\n",
    "    # Pseudo inverse solution for linear part\n",
    "    #\n",
    "    l = np.linalg.inv(U.T @ U) @ U.T @ y\n",
    "\n",
    "    for i in range(N_test):\n",
    "        for j in range(M):\n",
    "            U[i,j] = gaussian(X_test[i,:], C[j,:], sigma)\n",
    "\n",
    "    # Predicted values on training data\n",
    "    #\n",
    "    yh = U @ l\n",
    "print(yh.shape)\n",
    "\n",
    "fig, ax = plt.subplots(figsize=(3,3))\n",
    "ax.scatter(y, yh, c='m', s=3)\n",
    "ax.grid(True)\n",
    "ax.set_title(\"Training Set\", fontsize=14)\n",
    "ax.set_xlabel(\"True Target\", fontsize=12)\n",
    "ax.set_ylabel(\"Prediction\", fontsize=12)"
   ]
  },
  {
   "cell_type": "code",
   "execution_count": 37,
   "id": "594174f3",
   "metadata": {},
   "outputs": [
    {
     "name": "stdout",
     "output_type": "stream",
     "text": [
      "(442,)\n"
     ]
    },
    {
     "data": {
      "text/plain": [
       "Text(0, 0.5, 'Prediction')"
      ]
     },
     "execution_count": 37,
     "metadata": {},
     "output_type": "execute_result"
    },
    {
     "data": {
      "image/png": "[encoded data removed]",
      "text/plain": [
       "<Figure size 216x216 with 1 Axes>"
      ]
     },
     "metadata": {
      "needs_background": "light"
     },
     "output_type": "display_data"
    }
   ],
   "source": [
    "# Space for design matrix\n",
    "#\n",
    "M = 200\n",
    "U = np.zeros((N,M))\n",
    "# Basis function locations at random\n",
    "#\n",
    "kmeans=KMeans(n_clusters=M, random_state=0).fit(X)\n",
    "C=kmeans.cluster_centers_\n",
    "\n",
    "# C = np.random.randn(M,p)\n",
    "# Basis function range as distance between two random data\n",
    "#\n",
    "itr=200\n",
    "sigma = 0;\n",
    "\n",
    "for i in range(itr):\n",
    "    x1 = X[np.floor(np.random.rand()*N).astype(int),:] \n",
    "    x2 = X[np.floor(np.random.rand()*N).astype(int),:]\n",
    "    sigma += np.linalg.norm(x1-x2)\n",
    "\n",
    "sigma=sigma/itr\n",
    "\n",
    "from sklearn.model_selection import train_test_split\n",
    "X_train, X_test, t_train, t_test = train_test_split(X, y, test_size=0.3)\n",
    "N_train, p_train = X_train.shape\n",
    "N_test, p_test= X_test.shape\n",
    "\n",
    "for i in range(N_train):\n",
    "    for j in range(M):\n",
    "        U[i,j] = gaussian(X_train[i,:], C[j,:], sigma)\n",
    "# Pseudo inverse solution for linear part\n",
    "#\n",
    "l = np.linalg.inv(U.T @ U) @ U.T @ y\n",
    "\n",
    "for i in range(N_test):\n",
    "    for j in range(M):\n",
    "        U[i,j] = gaussian(X_test[i,:], C[j,:], sigma)\n",
    "        \n",
    "# Predicted values on training data\n",
    "#\n",
    "yh = U @ l\n",
    "print(yh.shape)\n",
    "\n",
    "fig, ax = plt.subplots(figsize=(3,3))\n",
    "ax.scatter(y, yh, c='m', s=3)\n",
    "ax.grid(True)\n",
    "ax.set_title(\"Training Set\", fontsize=14)\n",
    "ax.set_xlabel(\"True Target\", fontsize=12)\n",
    "ax.set_ylabel(\"Prediction\", fontsize=12)"
   ]
  },
  {
   "cell_type": "code",
   "execution_count": 38,
   "id": "03c6336a",
   "metadata": {},
   "outputs": [
    {
     "name": "stdout",
     "output_type": "stream",
     "text": [
      "(442,)\n"
     ]
    },
    {
     "data": {
      "text/plain": [
       "Text(0, 0.5, 'Prediction')"
      ]
     },
     "execution_count": 38,
     "metadata": {},
     "output_type": "execute_result"
    },
    {
     "data": {
      "image/png": "[encoded data removed]",
      "text/plain": [
       "<Figure size 216x216 with 1 Axes>"
      ]
     },
     "metadata": {
      "needs_background": "light"
     },
     "output_type": "display_data"
    }
   ],
   "source": [
    "# Space for design matrix\n",
    "#\n",
    "M = 300\n",
    "U = np.zeros((N,M))\n",
    "# Basis function locations at random\n",
    "#\n",
    "kmeans=KMeans(n_clusters=M, random_state=0).fit(X)\n",
    "C=kmeans.cluster_centers_\n",
    "\n",
    "# C = np.random.randn(M,p)\n",
    "# Basis function range as distance between two random data\n",
    "#\n",
    "itr=200\n",
    "sigma = 0;\n",
    "\n",
    "for i in range(itr):\n",
    "    x1 = X[np.floor(np.random.rand()*N).astype(int),:] \n",
    "    x2 = X[np.floor(np.random.rand()*N).astype(int),:]\n",
    "    sigma += np.linalg.norm(x1-x2)\n",
    "\n",
    "sigma=sigma/itr\n",
    "\n",
    "from sklearn.model_selection import train_test_split\n",
    "X_train, X_test, t_train, t_test = train_test_split(X, y, test_size=0.3)\n",
    "N_train, p_train = X_train.shape\n",
    "N_test, p_test= X_test.shape\n",
    "\n",
    "for i in range(N_train):\n",
    "    for j in range(M):\n",
    "        U[i,j] = gaussian(X_train[i,:], C[j,:], sigma)\n",
    "# Pseudo inverse solution for linear part\n",
    "#\n",
    "l = np.linalg.inv(U.T @ U) @ U.T @ y\n",
    "\n",
    "for i in range(N_test):\n",
    "    for j in range(M):\n",
    "        U[i,j] = gaussian(X_test[i,:], C[j,:], sigma)\n",
    "        \n",
    "# Predicted values on training data\n",
    "#\n",
    "yh = U @ l\n",
    "print(yh.shape)\n",
    "\n",
    "fig, ax = plt.subplots(figsize=(3,3))\n",
    "ax.scatter(y, yh, c='m', s=3)\n",
    "ax.grid(True)\n",
    "ax.set_title(\"Training Set\", fontsize=14)\n",
    "ax.set_xlabel(\"True Target\", fontsize=12)\n",
    "ax.set_ylabel(\"Prediction\", fontsize=12)"
   ]
  },
  {
   "cell_type": "code",
   "execution_count": 39,
   "id": "408dfb3b",
   "metadata": {},
   "outputs": [
    {
     "name": "stdout",
     "output_type": "stream",
     "text": [
      "(442,)\n"
     ]
    },
    {
     "data": {
      "text/plain": [
       "Text(0, 0.5, 'Prediction')"
      ]
     },
     "execution_count": 39,
     "metadata": {},
     "output_type": "execute_result"
    },
    {
     "data": {
      "image/png": "[encoded data removed]",
      "text/plain": [
       "<Figure size 216x216 with 1 Axes>"
      ]
     },
     "metadata": {
      "needs_background": "light"
     },
     "output_type": "display_data"
    }
   ],
   "source": [
    "# Space for design matrix\n",
    "#\n",
    "M = 100\n",
    "U = np.zeros((N,M))\n",
    "# Basis function locations at random\n",
    "#\n",
    "kmeans=KMeans(n_clusters=M, random_state=0).fit(X)\n",
    "C=kmeans.cluster_centers_\n",
    "\n",
    "# C = np.random.randn(M,p)\n",
    "# Basis function range as distance between two random data\n",
    "#\n",
    "itr=200\n",
    "sigma = 0;\n",
    "\n",
    "for i in range(itr):\n",
    "    x1 = X[np.floor(np.random.rand()*N).astype(int),:] \n",
    "    x2 = X[np.floor(np.random.rand()*N).astype(int),:]\n",
    "    sigma += np.linalg.norm(x1-x2)\n",
    "\n",
    "sigma=sigma/itr\n",
    "\n",
    "from sklearn.model_selection import train_test_split\n",
    "X_train, X_test, t_train, t_test = train_test_split(X, y, test_size=0.3)\n",
    "N_train, p_train = X_train.shape\n",
    "N_test, p_test= X_test.shape\n",
    "\n",
    "for i in range(N_train):\n",
    "    for j in range(M):\n",
    "        U[i,j] = gaussian(X_train[i,:], C[j,:], sigma)\n",
    "# Pseudo inverse solution for linear part\n",
    "#\n",
    "l = np.linalg.inv(U.T @ U) @ U.T @ y\n",
    "\n",
    "for i in range(N_test):\n",
    "    for j in range(M):\n",
    "        U[i,j] = gaussian(X_test[i,:], C[j,:], sigma)\n",
    "        \n",
    "# Predicted values on training data\n",
    "#\n",
    "yh = U @ l\n",
    "print(yh.shape)\n",
    "\n",
    "fig, ax = plt.subplots(figsize=(3,3))\n",
    "ax.scatter(y, yh, c='m', s=3)\n",
    "ax.grid(True)\n",
    "ax.set_title(\"Training Set\", fontsize=14)\n",
    "ax.set_xlabel(\"True Target\", fontsize=12)\n",
    "ax.set_ylabel(\"Prediction\", fontsize=12)"
   ]
  },
  {
   "cell_type": "code",
   "execution_count": 45,
   "id": "9b621cd4",
   "metadata": {},
   "outputs": [
    {
     "name": "stdout",
     "output_type": "stream",
     "text": [
      "(133,)\n",
      "(133,)\n",
      "(133,)\n"
     ]
    },
    {
     "data": {
      "image/png": "[encoded data removed]",
      "text/plain": [
       "<Figure size 216x216 with 1 Axes>"
      ]
     },
     "metadata": {
      "needs_background": "light"
     },
     "output_type": "display_data"
    },
    {
     "data": {
      "image/png": "[encoded data removed]",
      "text/plain": [
       "<Figure size 216x216 with 1 Axes>"
      ]
     },
     "metadata": {
      "needs_background": "light"
     },
     "output_type": "display_data"
    },
    {
     "data": {
      "image/png": "[encoded data removed]",
      "text/plain": [
       "<Figure size 216x216 with 1 Axes>"
      ]
     },
     "metadata": {
      "needs_background": "light"
     },
     "output_type": "display_data"
    }
   ],
   "source": [
    "from sklearn.model_selection import train_test_split\n",
    "# Space for design matrix\n",
    "#\n",
    "Mi = [100,200,300]\n",
    "for M in Mi:\n",
    "    \n",
    "    # C = np.random.randn(M,p)\n",
    "    # Basis function range as distance between two random data\n",
    "    #\n",
    "    itr=200\n",
    "    sigma = 0;\n",
    "\n",
    "    for i in range(itr):\n",
    "        x1 = X[np.floor(np.random.rand()*N).astype(int),:] \n",
    "        x2 = X[np.floor(np.random.rand()*N).astype(int),:]\n",
    "        sigma += np.linalg.norm(x1-x2)\n",
    "\n",
    "    sigma=sigma/itr\n",
    "\n",
    "    \n",
    "    X_train, X_test, t_train, t_test = train_test_split(X1, y, test_size=0.3)\n",
    "    N_train, p_train = X_train.shape\n",
    "    N_test, p_test= X_test.shape\n",
    "    U = np.zeros((N_train,M))\n",
    "\n",
    "    for i in range(N_train):\n",
    "        for j in range(M):\n",
    "            U[i,j] = gaussian(X_train[i,:], C[j,:], sigma)\n",
    "    # Pseudo inverse solution for linear part\n",
    "    #\n",
    "    l = np.linalg.inv(U.T @ U) @ U.T @ t_train\n",
    "\n",
    "    U = np.zeros((N_test,M))\n",
    "    for i in range(N_test):\n",
    "        for j in range(M):\n",
    "            U[i,j] = gaussian(X_test[i,:], C[j,:], sigma)\n",
    "\n",
    "    # Predicted values on training data\n",
    "    #\n",
    "    yh = U @ l\n",
    "    print(yh.shape)\n",
    "\n",
    "    fig, ax = plt.subplots(figsize=(3,3))\n",
    "    ax.scatter(t_test, yh, c='m', s=3)\n",
    "    ax.grid(True)\n",
    "    ax.set_title(\"Training Set\", fontsize=14)\n",
    "    ax.set_xlabel(\"True Target\", fontsize=12)\n",
    "    ax.set_ylabel(\"Prediction\", fontsize=12)"
   ]
  },
  {
   "cell_type": "code",
   "execution_count": 50,
   "id": "50304c09",
   "metadata": {},
   "outputs": [
    {
     "data": {
      "text/plain": [
       "{'whiskers': [<matplotlib.lines.Line2D at 0x20af9e2e550>,\n",
       "  <matplotlib.lines.Line2D at 0x20af9e2e8b0>],\n",
       " 'caps': [<matplotlib.lines.Line2D at 0x20af9e2ec10>,\n",
       "  <matplotlib.lines.Line2D at 0x20af9e2ef70>],\n",
       " 'boxes': [<matplotlib.lines.Line2D at 0x20af9e2e1f0>],\n",
       " 'medians': [<matplotlib.lines.Line2D at 0x20af9e372b0>],\n",
       " 'fliers': [<matplotlib.lines.Line2D at 0x20af9e375b0>],\n",
       " 'means': []}"
      ]
     },
     "execution_count": 50,
     "metadata": {},
     "output_type": "execute_result"
    },
    {
     "data": {
      "image/png": "[encoded data removed]",
      "text/plain": [
       "<Figure size 432x288 with 1 Axes>"
      ]
     },
     "metadata": {
      "needs_background": "light"
     },
     "output_type": "display_data"
    }
   ],
   "source": [
    "import matplotlib.pyplot as plt\n",
    "\n",
    "plt.boxplot(yh)"
   ]
  },
  {
   "cell_type": "code",
   "execution_count": 56,
   "id": "066041bb",
   "metadata": {},
   "outputs": [
    {
     "ename": "NameError",
     "evalue": "name 'getPredictionError' is not defined",
     "output_type": "error",
     "traceback": [
      "\u001b[1;31m---------------------------------------------------------------------------\u001b[0m",
      "\u001b[1;31mNameError\u001b[0m                                 Traceback (most recent call last)",
      "\u001b[1;32m<ipython-input-56-312867e28dc6>\u001b[0m in \u001b[0;36m<module>\u001b[1;34m\u001b[0m\n\u001b[0;32m     12\u001b[0m \u001b[0mth2\u001b[0m \u001b[1;33m=\u001b[0m \u001b[0mX\u001b[0m \u001b[1;33m@\u001b[0m \u001b[0mw\u001b[0m\u001b[1;33m\u001b[0m\u001b[1;33m\u001b[0m\u001b[0m\n\u001b[0;32m     13\u001b[0m \u001b[1;33m\u001b[0m\u001b[0m\n\u001b[1;32m---> 14\u001b[1;33m \u001b[0mrms_linear_models\u001b[0m \u001b[1;33m=\u001b[0m \u001b[1;33m[\u001b[0m\u001b[0mround\u001b[0m\u001b[1;33m(\u001b[0m\u001b[0mgetPredictionError\u001b[0m\u001b[1;33m(\u001b[0m\u001b[0mth1\u001b[0m\u001b[1;33m,\u001b[0m \u001b[0mt\u001b[0m\u001b[1;33m)\u001b[0m\u001b[1;33m,\u001b[0m \u001b[1;36m3\u001b[0m\u001b[1;33m)\u001b[0m\u001b[1;33m,\u001b[0m \u001b[0mround\u001b[0m\u001b[1;33m(\u001b[0m\u001b[0mgetPredictionError\u001b[0m\u001b[1;33m(\u001b[0m\u001b[0mth2\u001b[0m\u001b[1;33m,\u001b[0m \u001b[0mt\u001b[0m\u001b[1;33m)\u001b[0m\u001b[1;33m,\u001b[0m \u001b[1;36m3\u001b[0m\u001b[1;33m)\u001b[0m\u001b[1;33m]\u001b[0m\u001b[1;33m\u001b[0m\u001b[1;33m\u001b[0m\u001b[0m\n\u001b[0m\u001b[0;32m     15\u001b[0m \u001b[1;33m\u001b[0m\u001b[0m\n\u001b[0;32m     16\u001b[0m \u001b[0mdata\u001b[0m \u001b[1;33m=\u001b[0m \u001b[0mnp\u001b[0m\u001b[1;33m.\u001b[0m\u001b[0mappend\u001b[0m\u001b[1;33m(\u001b[0m\u001b[0mtest_results\u001b[0m\u001b[1;33m,\u001b[0m \u001b[1;33m[\u001b[0m\u001b[0mrms_linear_reg\u001b[0m\u001b[1;33m]\u001b[0m\u001b[1;33m)\u001b[0m\u001b[1;33m\u001b[0m\u001b[1;33m\u001b[0m\u001b[0m\n",
      "\u001b[1;31mNameError\u001b[0m: name 'getPredictionError' is not defined"
     ]
    }
   ],
   "source": [
    "\n",
    "\n",
    "diabetes = datasets.load_diabetes()\n",
    "X = diabetes.data\n",
    "t = diabetes.target\n",
    "\n",
    "NumData, NumFeatures = X.shape\n",
    "\n",
    "lin = LinearRegression().fit(X, t)\n",
    "#print(lin.score(X, t))\n",
    "th1 = lin.predict(X)\n",
    "\n",
    "w = np.linalg.inv(X.T @ X) @ X.T @ t\n",
    "th2 = X @ w\n",
    " \n",
    "rms_linear_models = [round(getPredictionError(th1, t), 3), round(getPredictionError(th2, t), 3)]\n",
    "\n",
    "data = np.append(test_results, [rms_linear_reg])\n",
    "data\n",
    "\n",
    "fig1, ax = plt.subplots()\n",
    "\n",
    "ax.boxplot([test_results, rms_linear_models])\n",
    "ax.set_xticklabels(['RBF', 'Linear Regression Models'])\n",
    "plt.savefig(\"errorBoxPlot.jpg\")\n"
   ]
  },
  {
   "cell_type": "code",
   "execution_count": 59,
   "id": "4c93c2e5",
   "metadata": {},
   "outputs": [
    {
     "ename": "NameError",
     "evalue": "name 'getPredictionError' is not defined",
     "output_type": "error",
     "traceback": [
      "\u001b[1;31m---------------------------------------------------------------------------\u001b[0m",
      "\u001b[1;31mNameError\u001b[0m                                 Traceback (most recent call last)",
      "\u001b[1;32m<ipython-input-59-312867e28dc6>\u001b[0m in \u001b[0;36m<module>\u001b[1;34m\u001b[0m\n\u001b[0;32m     12\u001b[0m \u001b[0mth2\u001b[0m \u001b[1;33m=\u001b[0m \u001b[0mX\u001b[0m \u001b[1;33m@\u001b[0m \u001b[0mw\u001b[0m\u001b[1;33m\u001b[0m\u001b[1;33m\u001b[0m\u001b[0m\n\u001b[0;32m     13\u001b[0m \u001b[1;33m\u001b[0m\u001b[0m\n\u001b[1;32m---> 14\u001b[1;33m \u001b[0mrms_linear_models\u001b[0m \u001b[1;33m=\u001b[0m \u001b[1;33m[\u001b[0m\u001b[0mround\u001b[0m\u001b[1;33m(\u001b[0m\u001b[0mgetPredictionError\u001b[0m\u001b[1;33m(\u001b[0m\u001b[0mth1\u001b[0m\u001b[1;33m,\u001b[0m \u001b[0mt\u001b[0m\u001b[1;33m)\u001b[0m\u001b[1;33m,\u001b[0m \u001b[1;36m3\u001b[0m\u001b[1;33m)\u001b[0m\u001b[1;33m,\u001b[0m \u001b[0mround\u001b[0m\u001b[1;33m(\u001b[0m\u001b[0mgetPredictionError\u001b[0m\u001b[1;33m(\u001b[0m\u001b[0mth2\u001b[0m\u001b[1;33m,\u001b[0m \u001b[0mt\u001b[0m\u001b[1;33m)\u001b[0m\u001b[1;33m,\u001b[0m \u001b[1;36m3\u001b[0m\u001b[1;33m)\u001b[0m\u001b[1;33m]\u001b[0m\u001b[1;33m\u001b[0m\u001b[1;33m\u001b[0m\u001b[0m\n\u001b[0m\u001b[0;32m     15\u001b[0m \u001b[1;33m\u001b[0m\u001b[0m\n\u001b[0;32m     16\u001b[0m \u001b[0mdata\u001b[0m \u001b[1;33m=\u001b[0m \u001b[0mnp\u001b[0m\u001b[1;33m.\u001b[0m\u001b[0mappend\u001b[0m\u001b[1;33m(\u001b[0m\u001b[0mtest_results\u001b[0m\u001b[1;33m,\u001b[0m \u001b[1;33m[\u001b[0m\u001b[0mrms_linear_reg\u001b[0m\u001b[1;33m]\u001b[0m\u001b[1;33m)\u001b[0m\u001b[1;33m\u001b[0m\u001b[1;33m\u001b[0m\u001b[0m\n",
      "\u001b[1;31mNameError\u001b[0m: name 'getPredictionError' is not defined"
     ]
    }
   ],
   "source": [
    "diabetes = datasets.load_diabetes()\n",
    "X = diabetes.data\n",
    "t = diabetes.target\n",
    "\n",
    "NumData, NumFeatures = X.shape\n",
    "\n",
    "lin = LinearRegression().fit(X, t)\n",
    "#print(lin.score(X, t))\n",
    "th1 = lin.predict(X)\n",
    "\n",
    "w = np.linalg.inv(X.T @ X) @ X.T @ t\n",
    "th2 = X @ w\n",
    " \n",
    "rms_linear_models = [round(getPredictionError(th1, t), 3), round(getPredictionError(th2, t), 3)]\n",
    "\n",
    "data = np.append(test_results, [rms_linear_reg])\n",
    "data\n",
    "\n",
    "fig1, ax = plt.subplots()\n",
    "\n",
    "ax.boxplot([test_results, rms_linear_models])\n",
    "ax.set_xticklabels(['RBF', 'Linear Regression Models'])\n",
    "plt.savefig(\"errorBoxPlot.jpg\")"
   ]
  }
 ],
 "metadata": {
  "kernelspec": {
   "display_name": "Python 3",
   "language": "python",
   "name": "python3"
  },
  "language_info": {
   "codemirror_mode": {
    "name": "ipython",
    "version": 3
   },
   "file_extension": ".py",
   "mimetype": "text/x-python",
   "name": "python",
   "nbconvert_exporter": "python",
   "pygments_lexer": "ipython3",
   "version": "3.8.8"
  }
 },
 "nbformat": 4,
 "nbformat_minor": 5
}
