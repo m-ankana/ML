{
 "cells": [
  {
   "cell_type": "code",
   "execution_count": 2,
   "id": "8b50c08d",
   "metadata": {},
   "outputs": [],
   "source": [
    "import numpy as np\n",
    "%matplotlib inline\n",
    "import matplotlib.pyplot as plt\n",
    "# Perceptron\n",
    "NumDataPerClass=200\n",
    "m1=[[0,5]]\n",
    "m2=[[5,0]]\n",
    "C=[[2,1],[1,2]]\n",
    "\n",
    "A=np.linalg.cholesky(C)\n",
    "\n",
    "U1=np.random.randn(NumDataPerClass,2)\n",
    "X1=U1@A.T +m1\n",
    "\n",
    "U2=np.random.randn(NumDataPerClass,2)\n",
    "X2=U2@A.T +m2"
   ]
  },
  {
   "cell_type": "code",
   "execution_count": 6,
   "id": "a5e06c9f",
   "metadata": {},
   "outputs": [
    {
     "data": {
      "text/plain": [
       "(-4.0, 8.0)"
      ]
     },
     "execution_count": 6,
     "metadata": {},
     "output_type": "execute_result"
    },
    {
     "data": {
      "image/png": "[encoded data removed]",
      "text/plain": [
       "<Figure size 360x360 with 1 Axes>"
      ]
     },
     "metadata": {
      "needs_background": "light"
     },
     "output_type": "display_data"
    }
   ],
   "source": [
    "fig, ax = plt.subplots(figsize=(5,5))\n",
    "ax.scatter(X1[:,0], X1[:,1], c=\"c\", s=4)\n",
    "ax.scatter(X2[:,0], X2[:,1], c=\"m\", s=4)\n",
    "ax.set_xlim(-4, 8)\n",
    "ax.set_ylim(-4, 8)"
   ]
  },
  {
   "cell_type": "code",
   "execution_count": 54,
   "id": "4ea609d1",
   "metadata": {},
   "outputs": [],
   "source": [
    "X=np.concatenate((X1,X2),axis=0)\n",
    "O=np.ones((2*NumDataPerClass,1))\n",
    "X=np.append(X,O, axis=1)\n",
    "labelPos=np.ones(NumDataPerClass)\n",
    "LabelNeg=-1.0*np.ones(NumDataPerClass)\n",
    "y=np.concatenate((labelPos,LabelNeg))"
   ]
  },
  {
   "cell_type": "code",
   "execution_count": 55,
   "id": "39b2e670",
   "metadata": {},
   "outputs": [
    {
     "name": "stdout",
     "output_type": "stream",
     "text": [
      "(200, 3) (200,) (200, 3) (200,)\n"
     ]
    }
   ],
   "source": [
    "rIndex = np.random.permutation(2*NumDataPerClass)\n",
    "Xr = X[rIndex,]\n",
    "yr = y[rIndex]\n",
    "# Training and test sets (half half) #\n",
    "X_train = Xr[0:NumDataPerClass]\n",
    "y_train = yr[0:NumDataPerClass]\n",
    "X_test = Xr[NumDataPerClass:2*NumDataPerClass]\n",
    "y_test = yr[NumDataPerClass:2*NumDataPerClass]\n",
    "print(X_train.shape, y_train.shape, X_test.shape, y_test.shape)\n",
    "Ntrain = NumDataPerClass;\n",
    "Ntest = NumDataPerClass;"
   ]
  },
  {
   "cell_type": "code",
   "execution_count": 56,
   "id": "17e1c80f",
   "metadata": {},
   "outputs": [],
   "source": [
    "def PercentCorrect(Inputs, targets, weights):\n",
    "    N = len(targets)\n",
    "    nCorrect = 0\n",
    "    for n in range(N):\n",
    "        OneInput = Inputs[n,:]\n",
    "        if (targets[n] * np.dot(OneInput, weights) > 0):\n",
    "            nCorrect +=1\n",
    "    return 100*nCorrect/N"
   ]
  },
  {
   "cell_type": "code",
   "execution_count": 57,
   "id": "5737c335",
   "metadata": {},
   "outputs": [
    {
     "name": "stdout",
     "output_type": "stream",
     "text": [
      "[-0.49575326 -0.18276758 -0.68990348]\n",
      "Initial Percentage Correct:  54.50\n",
      "Percentage Correct After Training: 100.00  98.50\n"
     ]
    }
   ],
   "source": [
    "# Perceptron learning loop #\n",
    "# Random initialization of weights #\n",
    "w = np.random.randn(3)\n",
    "print(w)\n",
    "# What is the performance with the initial random weights? #\n",
    "print(\"Initial Percentage Correct: %6.2f\" %(PercentCorrect(X_train, y_train, w)))\n",
    "# Fixed number of iterations (think of better stopping criterion) #\n",
    "MaxIter=1000\n",
    "# Learning rate (change this to see convergence changing) #\n",
    "alpha = 0.004\n",
    "# Space to save answers for plotting #\n",
    "P_train = np.zeros(MaxIter)\n",
    "P_test = np.zeros(MaxIter)\n",
    "# Main Loop #\n",
    "for iter in range(MaxIter):\n",
    "# Select a data item at random #\n",
    "    r = np.floor(np.random.rand()*Ntrain).astype(int)\n",
    "    x = X_train[r,:]\n",
    "# If it is misclassified, update weights #\n",
    "    if (y_train[r] * np.dot(x, w) < 0):\n",
    "        w += alpha * y_train[r] * x\n",
    "# Evaluate trainign and test performances for plotting #\n",
    "    P_train[iter] = PercentCorrect(X_train, y_train, w);\n",
    "    P_test[iter] = PercentCorrect(X_test, y_test, w);\n",
    "print(\"Percentage Correct After Training: %6.2f %6.2f\"\n",
    "%(PercentCorrect(X_train, y_train, w), PercentCorrect(X_test, y_test, w)))"
   ]
  },
  {
   "cell_type": "code",
   "execution_count": null,
   "id": "b5ea9509",
   "metadata": {},
   "outputs": [],
   "source": [
    "[-0.34140144 -0.42384572]\n",
    "Initial Percentage Correct:  47.00\n",
    "Percentage Correct After Training: 100.00  98.50 \\\n",
    "# for alpha =0.002\n",
    "    \n"
   ]
  },
  {
   "cell_type": "code",
   "execution_count": 20,
   "id": "472052ac",
   "metadata": {},
   "outputs": [
    {
     "data": {
      "image/png": "[encoded data removed]",
      "text/plain": [
       "<Figure size 432x288 with 1 Axes>"
      ]
     },
     "metadata": {
      "needs_background": "light"
     },
     "output_type": "display_data"
    }
   ],
   "source": [
    "\n",
    "fig, ax = plt.subplots(figsize=(6,4))\n",
    "ax.plot(range(MaxIter), P_train, 'b', label = \"Training\")\n",
    "ax.plot(range(MaxIter), P_test, 'r', label = \"Test\")\n",
    "ax.grid(True)\n",
    "ax.legend()\n",
    "ax.set_title('Perceptron Learning')\n",
    "ax.set_ylabel('Training and Test Accuracies', fontsize=14)\n",
    "ax.set_xlabel('Iteration', fontsize=14)\n",
    "plt.savefig('learningCurves.png')\n"
   ]
  },
  {
   "cell_type": "code",
   "execution_count": 216,
   "id": "a896adf3",
   "metadata": {},
   "outputs": [],
   "source": [
    "NumDataPerClass=200\n",
    "m1=[[2.5,2.5]]\n",
    "m2=[[10.0,10.0]]\n",
    "C=[[2,1],[1,2]]\n",
    "\n",
    "A=np.linalg.cholesky(C)\n",
    "\n",
    "U1=np.random.randn(NumDataPerClass,2)\n",
    "X1=U1@A.T +m1\n",
    "\n",
    "U2=np.random.randn(NumDataPerClass,2)\n",
    "X2=U2@A.T +m2"
   ]
  },
  {
   "cell_type": "code",
   "execution_count": 217,
   "id": "2cc018b5",
   "metadata": {},
   "outputs": [
    {
     "data": {
      "text/plain": [
       "(-15.0, 15.0)"
      ]
     },
     "execution_count": 217,
     "metadata": {},
     "output_type": "execute_result"
    },
    {
     "data": {
      "image/png": "[encoded data removed]",
      "text/plain": [
       "<Figure size 360x360 with 1 Axes>"
      ]
     },
     "metadata": {
      "needs_background": "light"
     },
     "output_type": "display_data"
    }
   ],
   "source": [
    "fig, ax = plt.subplots(figsize=(5,5))\n",
    "ax.scatter(X1[:,0], X1[:,1], c=\"c\", s=4)\n",
    "ax.scatter(X2[:,0], X2[:,1], c=\"m\", s=4)\n",
    "ax.set_xlim(-15, 15)\n",
    "ax.set_ylim(-15, 15)"
   ]
  },
  {
   "cell_type": "code",
   "execution_count": 218,
   "id": "424de376",
   "metadata": {},
   "outputs": [],
   "source": [
    "X=np.concatenate((X1,X2),axis=0)\n",
    "O=np.ones((2*NumDataPerClass,1))\n",
    "X=np.append(X,O, axis=1)\n",
    "labelPos=np.ones(NumDataPerClass)\n",
    "LabelNeg=-1.0*np.ones(NumDataPerClass)\n",
    "y=np.concatenate((labelPos,LabelNeg))"
   ]
  },
  {
   "cell_type": "code",
   "execution_count": 219,
   "id": "054cde49",
   "metadata": {},
   "outputs": [
    {
     "name": "stdout",
     "output_type": "stream",
     "text": [
      "(200, 3) (200,) (200, 3) (200,)\n",
      "(200, 3)\n"
     ]
    }
   ],
   "source": [
    "rIndex = np.random.permutation(2*NumDataPerClass)\n",
    "Xr = X[rIndex]\n",
    "yr = y[rIndex]\n",
    "# Training and test sets (half half) #\n",
    "X_train = Xr[0:NumDataPerClass]\n",
    "y_train = yr[0:NumDataPerClass]\n",
    "X_test = Xr[NumDataPerClass:2*NumDataPerClass]\n",
    "y_test = yr[NumDataPerClass:2*NumDataPerClass]\n",
    "print(X_train.shape, y_train.shape, X_test.shape, y_test.shape)\n",
    "Ntrain = NumDataPerClass;\n",
    "Ntest = NumDataPerClass;\n",
    "print(X_train.shape)"
   ]
  },
  {
   "cell_type": "code",
   "execution_count": 62,
   "id": "202fbe67",
   "metadata": {},
   "outputs": [],
   "source": [
    "def PercentCorrect(Inputs, targets, weights):\n",
    "    N = len(targets)\n",
    "    nCorrect = 0\n",
    "    for n in range(N):\n",
    "        OneInput = Inputs[n,:]\n",
    "        if (targets[n] * np.dot(OneInput, weights) > 0):\n",
    "            nCorrect +=1\n",
    "    return 100*nCorrect/N"
   ]
  },
  {
   "cell_type": "code",
   "execution_count": 64,
   "id": "969ce6cd",
   "metadata": {},
   "outputs": [
    {
     "name": "stdout",
     "output_type": "stream",
     "text": [
      "[1.77350868 1.70399459 0.8395488 ]\n",
      "Initial Percentage Correct:  51.00\n",
      "Percentage Correct After Training: 100.00  99.50\n"
     ]
    }
   ],
   "source": [
    "# Perceptron learning loop #\n",
    "# Random initialization of weights #\n",
    "w = np.random.randn(3)\n",
    "print(w)\n",
    "# What is the performance with the initial random weights? #\n",
    "print(\"Initial Percentage Correct: %6.2f\" %(PercentCorrect(X_train, y_train, w)))\n",
    "# Fixed number of iterations (think of better stopping criterion) #\n",
    "MaxIter=1000\n",
    "# Learning rate (change this to see convergence changing) #\n",
    "alpha = 0.002\n",
    "# Space to save answers for plotting #\n",
    "P_train = np.zeros(MaxIter)\n",
    "P_test = np.zeros(MaxIter)\n",
    "# Main Loop #\n",
    "for iter in range(MaxIter):\n",
    "# Select a data item at random #\n",
    "    r = np.floor(np.random.rand()*Ntrain).astype(int)\n",
    "    x = X_train[r,:]\n",
    "# If it is misclassified, update weights #\n",
    "    if (y_train[r] * np.dot(x, w) < 0):\n",
    "        w += alpha * y_train[r] * x\n",
    "# Evaluate trainign and test performances for plotting #\n",
    "    P_train[iter] = PercentCorrect(X_train, y_train, w);\n",
    "    P_test[iter] = PercentCorrect(X_test, y_test, w);\n",
    "print(\"Percentage Correct After Training: %6.2f %6.2f\"\n",
    "%(PercentCorrect(X_train, y_train, w), PercentCorrect(X_test, y_test, w)))"
   ]
  },
  {
   "cell_type": "code",
   "execution_count": null,
   "id": "2bcd65ee",
   "metadata": {},
   "outputs": [],
   "source": [
    "[-0.67555579  0.85484797]\n",
    "Initial Percentage Correct:  36.50\n",
    "Percentage Correct After Training:  65.00  59.00\n",
    "    \n",
    "[1.77350868 1.70399459 0.8395488 ]\n",
    "Initial Percentage Correct:  51.00\n",
    "Percentage Correct After Training: 100.00  99.50"
   ]
  },
  {
   "cell_type": "code",
   "execution_count": 4,
   "id": "8a217ad7",
   "metadata": {},
   "outputs": [],
   "source": [
    "# Question 2\n",
    "\n",
    "import pandas as pd"
   ]
  },
  {
   "cell_type": "code",
   "execution_count": 5,
   "id": "d5cc182d",
   "metadata": {},
   "outputs": [],
   "source": [
    "Train_input=pd.read_csv (r'Desktop/arcene_train.csv')\n",
    "X_train=np.array(Train_input)\n",
    "# 990000\n",
    "X_train=np.reshape(X_train,(198000,5))\n",
    "\n",
    "Test_input=pd.read_csv (r'Desktop/arcene_test.csv')\n",
    "X_test=np.array(Test_input)\n",
    "# 6990000\n",
    "X_test=np.reshape(X_test,(1398000,5))\n",
    "\n",
    "Train_output=pd.read_csv (r'Desktop/arcene_train_label.csv')\n",
    "Y_train=np.array(Train_output)\n",
    "\n",
    "Test_output=pd.read_csv(r'Desktop/arcene_valid_label.csv')\n",
    "Y_test=np.array(Test_output)\n",
    "\n",
    "NTrain=len(X_train)+len(Y_train)\n",
    "Ntest = len(X_test)+len(Y_test);"
   ]
  },
  {
   "cell_type": "code",
   "execution_count": 14,
   "id": "1b98536b",
   "metadata": {},
   "outputs": [],
   "source": [
    "O=np.ones((198000,1))\n",
    "O1=np.ones((1398000,1))\n",
    "X_train=np.append(X_train,O, axis=1)\n",
    "X_test=np.append(X_test,O1, axis=1)"
   ]
  },
  {
   "cell_type": "code",
   "execution_count": 15,
   "id": "cba59a86",
   "metadata": {},
   "outputs": [],
   "source": [
    "def PercentCorrect(Inputs, targets, weights):\n",
    "    N = len(targets)\n",
    "    nCorrect = 0\n",
    "    for n in range(N):\n",
    "        OneInput = Inputs[n,:]\n",
    "       \n",
    "        if (targets[n] * np.dot(OneInput, weights) > 0):\n",
    "            nCorrect +=1\n",
    "    return 100*nCorrect/N"
   ]
  },
  {
   "cell_type": "code",
   "execution_count": 18,
   "id": "02e26e65",
   "metadata": {},
   "outputs": [
    {
     "name": "stdout",
     "output_type": "stream",
     "text": [
      "[-2.00794517 -1.25332476 -1.46611199]\n"
     ]
    },
    {
     "ename": "ValueError",
     "evalue": "shapes (9,) and (3,) not aligned: 9 (dim 0) != 3 (dim 0)",
     "output_type": "error",
     "traceback": [
      "\u001b[1;31m---------------------------------------------------------------------------\u001b[0m",
      "\u001b[1;31mValueError\u001b[0m                                Traceback (most recent call last)",
      "\u001b[1;32m<ipython-input-18-5182f9ff50bc>\u001b[0m in \u001b[0;36m<module>\u001b[1;34m\u001b[0m\n\u001b[0;32m      4\u001b[0m \u001b[0mprint\u001b[0m\u001b[1;33m(\u001b[0m\u001b[0mw\u001b[0m\u001b[1;33m)\u001b[0m\u001b[1;33m\u001b[0m\u001b[1;33m\u001b[0m\u001b[0m\n\u001b[0;32m      5\u001b[0m \u001b[1;31m# What is the performance with the initial random weights? #\u001b[0m\u001b[1;33m\u001b[0m\u001b[1;33m\u001b[0m\u001b[1;33m\u001b[0m\u001b[0m\n\u001b[1;32m----> 6\u001b[1;33m \u001b[0mprint\u001b[0m\u001b[1;33m(\u001b[0m\u001b[1;34m\"Initial Percentage Correct: %6.2f\"\u001b[0m \u001b[1;33m%\u001b[0m\u001b[1;33m(\u001b[0m\u001b[0mPercentCorrect\u001b[0m\u001b[1;33m(\u001b[0m\u001b[0mX_train\u001b[0m\u001b[1;33m,\u001b[0m \u001b[0mY_train\u001b[0m\u001b[1;33m,\u001b[0m \u001b[0mw\u001b[0m\u001b[1;33m)\u001b[0m\u001b[1;33m)\u001b[0m\u001b[1;33m)\u001b[0m\u001b[1;33m\u001b[0m\u001b[1;33m\u001b[0m\u001b[0m\n\u001b[0m\u001b[0;32m      7\u001b[0m \u001b[1;31m# Fixed number of iterations (think of better stopping criterion) #\u001b[0m\u001b[1;33m\u001b[0m\u001b[1;33m\u001b[0m\u001b[1;33m\u001b[0m\u001b[0m\n\u001b[0;32m      8\u001b[0m \u001b[0mMaxIter\u001b[0m\u001b[1;33m=\u001b[0m\u001b[1;36m10000\u001b[0m\u001b[1;33m\u001b[0m\u001b[1;33m\u001b[0m\u001b[0m\n",
      "\u001b[1;32m<ipython-input-15-6af0ed566595>\u001b[0m in \u001b[0;36mPercentCorrect\u001b[1;34m(Inputs, targets, weights)\u001b[0m\n\u001b[0;32m      5\u001b[0m         \u001b[0mOneInput\u001b[0m \u001b[1;33m=\u001b[0m \u001b[0mInputs\u001b[0m\u001b[1;33m[\u001b[0m\u001b[0mn\u001b[0m\u001b[1;33m,\u001b[0m\u001b[1;33m:\u001b[0m\u001b[1;33m]\u001b[0m\u001b[1;33m\u001b[0m\u001b[1;33m\u001b[0m\u001b[0m\n\u001b[0;32m      6\u001b[0m \u001b[1;33m\u001b[0m\u001b[0m\n\u001b[1;32m----> 7\u001b[1;33m         \u001b[1;32mif\u001b[0m \u001b[1;33m(\u001b[0m\u001b[0mtargets\u001b[0m\u001b[1;33m[\u001b[0m\u001b[0mn\u001b[0m\u001b[1;33m]\u001b[0m \u001b[1;33m*\u001b[0m \u001b[0mnp\u001b[0m\u001b[1;33m.\u001b[0m\u001b[0mdot\u001b[0m\u001b[1;33m(\u001b[0m\u001b[0mOneInput\u001b[0m\u001b[1;33m,\u001b[0m \u001b[0mweights\u001b[0m\u001b[1;33m)\u001b[0m \u001b[1;33m>\u001b[0m \u001b[1;36m0\u001b[0m\u001b[1;33m)\u001b[0m\u001b[1;33m:\u001b[0m\u001b[1;33m\u001b[0m\u001b[1;33m\u001b[0m\u001b[0m\n\u001b[0m\u001b[0;32m      8\u001b[0m             \u001b[0mnCorrect\u001b[0m \u001b[1;33m+=\u001b[0m\u001b[1;36m1\u001b[0m\u001b[1;33m\u001b[0m\u001b[1;33m\u001b[0m\u001b[0m\n\u001b[0;32m      9\u001b[0m     \u001b[1;32mreturn\u001b[0m \u001b[1;36m100\u001b[0m\u001b[1;33m*\u001b[0m\u001b[0mnCorrect\u001b[0m\u001b[1;33m/\u001b[0m\u001b[0mN\u001b[0m\u001b[1;33m\u001b[0m\u001b[1;33m\u001b[0m\u001b[0m\n",
      "\u001b[1;32m<__array_function__ internals>\u001b[0m in \u001b[0;36mdot\u001b[1;34m(*args, **kwargs)\u001b[0m\n",
      "\u001b[1;31mValueError\u001b[0m: shapes (9,) and (3,) not aligned: 9 (dim 0) != 3 (dim 0)"
     ]
    }
   ],
   "source": [
    "# Perceptron learning loop #\n",
    "# Random initialization of weights #\n",
    "w = np.random.randn(3)\n",
    "print(w)\n",
    "# What is the performance with the initial random weights? #\n",
    "print(\"Initial Percentage Correct: %6.2f\" %(PercentCorrect(X_train, Y_train, w)))\n",
    "# Fixed number of iterations (think of better stopping criterion) #\n",
    "MaxIter=10000\n",
    "# Learning rate (change this to see convergence changing) #\n",
    "alpha = 0.002\n",
    "# Space to save answers for plotting #\n",
    "P_train = np.zeros(MaxIter)\n",
    "P_test = np.zeros(MaxIter)\n",
    "# Main Loop #\n",
    "for iter in range(MaxIter):\n",
    "# Select a data item at random #\n",
    "    r = np.floor(np.random.rand()*NTrain.any()).astype(int)\n",
    "    x = X_train[r,:]\n",
    "# If it is misclassified, update weights #\n",
    "    if (Y_train[r] * np.dot(x, w) < 0):\n",
    "        w += alpha * Y_train[r] * x\n",
    "# Evaluate trainign and test performances for plotting #\n",
    "    P_train[iter] = PercentCorrect(X_train, Y_train, w);\n",
    "    P_test[iter] = PercentCorrect(X_test, Y_test, w);\n",
    "print(\"Percentage Correct After Training: %6.2f %6.2f\"\n",
    "%(PercentCorrect(X_train, Y_train, w), PercentCorrect(X_test, Y_test, w)))"
   ]
  },
  {
   "cell_type": "code",
   "execution_count": null,
   "id": "22f500bf",
   "metadata": {},
   "outputs": [],
   "source": [
    "[-1.40698015 -0.8230191   1.1863015 ]\n",
    "Initial Percentage Correct:  46.46\n",
    "Percentage Correct After Training:  45.45  54.55\n",
    "    \n",
    "[ 0.26669157 -0.60492274 -0.84535433  0.17032731]\n",
    "Initial Percentage Correct:  59.60\n",
    "Percentage Correct After Training:  59.60  57.58\n",
    "    \n",
    "[-2.55034629 -1.1133176   1.04636941  0.10183812 -0.23877855]\n",
    "Initial Percentage Correct:  49.49\n",
    "Percentage Correct After Training:  51.52  55.56"
   ]
  }
 ],
 "metadata": {
  "kernelspec": {
   "display_name": "Python 3",
   "language": "python",
   "name": "python3"
  },
  "language_info": {
   "codemirror_mode": {
    "name": "ipython",
    "version": 3
   },
   "file_extension": ".py",
   "mimetype": "text/x-python",
   "name": "python",
   "nbconvert_exporter": "python",
   "pygments_lexer": "ipython3",
   "version": "3.8.8"
  }
 },
 "nbformat": 4,
 "nbformat_minor": 5
}
